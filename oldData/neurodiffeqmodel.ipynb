{
 "cells": [
  {
   "cell_type": "code",
   "execution_count": 126,
   "metadata": {},
   "outputs": [],
   "source": [
    "import numpy as np\n",
    "import matplotlib.pyplot as plt\n"
   ]
  },
  {
   "cell_type": "code",
   "execution_count": 127,
   "metadata": {},
   "outputs": [],
   "source": [
    "from neurodiffeq import diff      # the differentiation operation\n",
    "from neurodiffeq.ode import solve # the ANN-based solver\n",
    "from neurodiffeq.conditions import IVP   # the initial condition\n",
    "from neurodiffeq.conditions import DirichletBVP2D\n",
    "from neurodiffeq.solvers import Solver2D\n",
    "from neurodiffeq.solvers import Solver1D\n",
    "from neurodiffeq.monitors import Monitor2D\n",
    "from neurodiffeq.generators import Generator2D\n",
    "import torch\n",
    "from neurodiffeq.conditions import IBVP1D\n",
    "from neurodiffeq.pde import make_animation\n",
    "from neurodiffeq.networks import FCNN    # fully-connect neural network\n",
    "from neurodiffeq.networks import SinActv # sin activation"
   ]
  },
  {
   "cell_type": "code",
   "execution_count": 128,
   "metadata": {},
   "outputs": [
    {
     "data": {
      "application/vnd.jupyter.widget-view+json": {
       "model_id": "3769dc6632dd435fa99258ddffc4bb31",
       "version_major": 2,
       "version_minor": 0
      },
      "text/plain": [
       "Training Progress:   0%|          | 0/200 [00:00<?, ?it/s]"
      ]
     },
     "metadata": {},
     "output_type": "display_data"
    },
    {
     "name": "stdout",
     "output_type": "stream",
     "text": [
      "10\n",
      "20\n",
      "30\n",
      "40\n",
      "50\n",
      "60\n",
      "70\n",
      "80\n",
      "90\n",
      "100\n",
      "110\n",
      "120\n",
      "130\n",
      "140\n",
      "150\n",
      "160\n",
      "170\n",
      "180\n",
      "190\n",
      "200\n"
     ]
    }
   ],
   "source": [
    "k, L, T = 1, 2, 3\n",
    "# Define the PDE system\n",
    "# There's only one (heat) equation in the system, so the function maps (u, x, y) to a single entry\n",
    "def K_(u):\n",
    "    return 1+0.5*u\n",
    "heat = lambda u, x, t: [\n",
    "    diff(u, t) - K_(u) * diff(u, x, order=2)\n",
    "]\n",
    "\n",
    "# Define the initial and boundary conditions\n",
    "# There's only one function to be solved for, so we only have a single condition object\n",
    "conditions = [\n",
    "    IBVP1D(\n",
    "        t_min=0, t_min_val=lambda x: x*0,\n",
    "        x_min=0, x_min_prime=lambda t:  -t/(t+0.001*torch.ones_like(t)),\n",
    "        x_max=L, x_max_prime=lambda t: t*0\n",
    "    )\n",
    "]\n",
    "\n",
    "# Define the neural network to be used\n",
    "# Again, there's only one function to be solved for, so we only have a single network\n",
    "nets = [\n",
    "    FCNN(n_input_units=2, hidden_units=(100, 100), actv=torch.nn.Tanh)\n",
    "]\n",
    "\n",
    "\n",
    "# Define the monitor callback\n",
    "monitor=Monitor2D(check_every=10, xy_min=(0, 0), xy_max=(L, T))\n",
    "monitor_callback = monitor.to_callback()\n",
    "\n",
    "# Instantiate the solver\n",
    "solver = Solver2D(\n",
    "    pde_system=heat,\n",
    "    conditions=conditions,\n",
    "    xy_min=(0, 0),  # We can omit xy_min when both train_generator and valid_generator are specified\n",
    "    xy_max=(L, T),  # We can omit xy_max when both train_generator and valid_generator are specified\n",
    "    nets=nets,\n",
    "    train_generator=Generator2D((100, 100), (0, 0), (L, T), method='equally-spaced-noisy'),\n",
    "    valid_generator=Generator2D((100, 100), (0, 0), (L, T), method='equally-spaced'),\n",
    "    \n",
    ")\n",
    "\n",
    "# Fit the neural network\n",
    "solver.fit(max_epochs=200, callbacks=[lambda x: print(x.global_epoch) if x.global_epoch%10==0 else 1])\n",
    "\n",
    "# Obtain the solution\n",
    "solution_neural_net_heat = solver.get_solution()"
   ]
  },
  {
   "cell_type": "code",
   "execution_count": 132,
   "metadata": {},
   "outputs": [
    {
     "data": {
      "text/plain": [
       "(-1.0, 1.0)"
      ]
     },
     "execution_count": 132,
     "metadata": {},
     "output_type": "execute_result"
    },
    {
     "data": {
      "image/png": "[encoded data removed]",
      "text/plain": [
       "<Figure size 640x480 with 1 Axes>"
      ]
     },
     "metadata": {},
     "output_type": "display_data"
    }
   ],
   "source": [
    "\n",
    "xs = np.linspace(0, L, 101)\n",
    "ts = np.linspace(0, T, 101)\n",
    "xx, tt = np.meshgrid(xs, ts)\n",
    "\n",
    "plt.plot(xx[10],solution_neural_net_heat(xx[10], tt[5]).detach())\n",
    "plt.ylim((-1,1))"
   ]
  }
 ],
 "metadata": {
  "kernelspec": {
   "display_name": "Python 3",
   "language": "python",
   "name": "python3"
  },
  "language_info": {
   "codemirror_mode": {
    "name": "ipython",
    "version": 3
   },
   "file_extension": ".py",
   "mimetype": "text/x-python",
   "name": "python",
   "nbconvert_exporter": "python",
   "pygments_lexer": "ipython3",
   "version": "3.10.12"
  }
 },
 "nbformat": 4,
 "nbformat_minor": 2
}
