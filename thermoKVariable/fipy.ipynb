{
 "cells": [
  {
   "cell_type": "code",
   "execution_count": 1,
   "metadata": {},
   "outputs": [],
   "source": [
    "from fipy import Variable, FaceVariable, CellVariable, Grid1D, \\\n",
    "NthOrderBoundaryCondition, ExplicitDiffusionTerm, TransientTerm, DiffusionTerm, Viewer,PowerLawConvectionTerm,ImplicitSourceTerm\n",
    "from fipy.tools import numerix\n",
    "from fipy import DefaultSolver\n",
    "import numpy as np\n",
    "import math"
   ]
  },
  {
   "cell_type": "code",
   "execution_count": 2,
   "metadata": {},
   "outputs": [],
   "source": [
    "L = 3.\n",
    "T = 1.\n",
    "nx = 1000\n",
    "nt = 1000\n",
    "dx = L/nx\n",
    "mesh = Grid1D(nx=nx, dx=dx)\n",
    "\n",
    "valueLeft = 1\n",
    "valueRight = 0\n",
    "timeStepDuration = T/nt\n",
    "steps = nt"
   ]
  },
  {
   "cell_type": "code",
   "execution_count": 3,
   "metadata": {},
   "outputs": [],
   "source": [
    "def K_(u):\n",
    "    return np.full_like(u,1) + 0.5*u"
   ]
  },
  {
   "cell_type": "code",
   "execution_count": 4,
   "metadata": {},
   "outputs": [],
   "source": [
    "phi = CellVariable(name=\"solution variable\",\n",
    "                   mesh=mesh,\n",
    "                   value=0.)\n",
    "BCs = (\n",
    "    NthOrderBoundaryCondition(faces=mesh.facesLeft, value=-1, order=1),\n",
    "    NthOrderBoundaryCondition(faces=mesh.facesRight, value=0, order=1)\n",
    "    )\n",
    "\n",
    "phi.faceGrad.constrain(-1/K_(phi.faceValue),where=mesh.facesLeft)\n",
    "phi.faceGrad.constrain(0, where= mesh.facesRight)\n",
    "\n",
    "\n",
    "eqX = (TransientTerm(coeff = 1)\n",
    "      == DiffusionTerm(coeff=K_(phi)) )"
   ]
  },
  {
   "cell_type": "code",
   "execution_count": 5,
   "metadata": {},
   "outputs": [
    {
     "data": {
      "image/png": "[encoded data removed]",
      "text/plain": [
       "<Figure size 480x480 with 1 Axes>"
      ]
     },
     "metadata": {},
     "output_type": "display_data"
    }
   ],
   "source": [
    "phiAnalytical = CellVariable(name=\"analytical value\",\n",
    "                             mesh=mesh)\n",
    "if __name__ == '__main__':\n",
    "    viewer = Viewer(vars=(phi, phiAnalytical),\n",
    "                    datamin=0., datamax=1.)\n"
   ]
  },
  {
   "cell_type": "code",
   "execution_count": 6,
   "metadata": {},
   "outputs": [],
   "source": [
    "x = mesh.cellCenters[0]\n",
    "\n",
    "def solution(x,t,L,n_max):\n",
    "    V = t/L + L/3\n",
    "    for n in range(1,n_max+1):\n",
    "        V+=-2*L/(math.pi**2*n**2)*np.exp(-math.pi**2*n**2*t/L**2)*np.cos(math.pi*n*x/L)\n",
    "    return -2 + 2*np.sqrt(-x + x**2/(2*L) + 1 + V)\n",
    "\n",
    "from builtins import range\n",
    "solver = DefaultSolver()\n",
    "for step in range(steps):\n",
    "    #phiAnalytical.setValue(solution(x,timeStepDuration*step,L,100)) \n",
    "    eqX.solve(var=phi,\n",
    "              dt=timeStepDuration,\n",
    "              #boundaryConditions = BCs,\n",
    "              solver = solver)\n",
    "    \"\"\" if __name__ == '__main__':\n",
    "        viewer.plot()  \"\"\""
   ]
  }
 ],
 "metadata": {
  "kernelspec": {
   "display_name": "Python 3",
   "language": "python",
   "name": "python3"
  },
  "language_info": {
   "codemirror_mode": {
    "name": "ipython",
    "version": 3
   },
   "file_extension": ".py",
   "mimetype": "text/x-python",
   "name": "python",
   "nbconvert_exporter": "python",
   "pygments_lexer": "ipython3",
   "version": "3.10.12"
  }
 },
 "nbformat": 4,
 "nbformat_minor": 2
}
