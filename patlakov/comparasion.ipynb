{
 "cells": [
  {
   "cell_type": "code",
   "execution_count": 1,
   "metadata": {},
   "outputs": [],
   "source": [
    "import pandas as pd\n",
    "import numpy as np\n",
    "from sklearn.metrics import mean_squared_error\n",
    "df = pd.read_csv('80x4_10000x500x500_m=2_PINN.csv')\n",
    "df = df[df.columns[1:]]"
   ]
  },
  {
   "cell_type": "code",
   "execution_count": 2,
   "metadata": {},
   "outputs": [
    {
     "data": {
      "text/plain": [
       "Index(['X', 'T', 'U'], dtype='object')"
      ]
     },
     "execution_count": 2,
     "metadata": {},
     "output_type": "execute_result"
    }
   ],
   "source": [
    "df.columns"
   ]
  },
  {
   "cell_type": "code",
   "execution_count": 3,
   "metadata": {},
   "outputs": [],
   "source": [
    "L = 15.0\n",
    "T=1.\n",
    "m=2\n",
    "C = 1\n",
    "t0 = 0.01 * T  \n",
    "nx = 1000\n",
    "nt = 1000"
   ]
  },
  {
   "cell_type": "code",
   "execution_count": 4,
   "metadata": {},
   "outputs": [],
   "source": [
    "def solution(x, t, m, C):\n",
    "    alpha = 1.0 / (m + 1)\n",
    "    factor = t**(-alpha)\n",
    "    inner = C - (m - 1) / (2 * m * (m + 1)) * x**2 / (t**(2 * alpha))\n",
    "    return factor * np.maximum(inner, 0)**(1.0 / (m - 1))"
   ]
  },
  {
   "cell_type": "code",
   "execution_count": 5,
   "metadata": {},
   "outputs": [],
   "source": [
    "import matplotlib.pyplot as plt\n",
    "df['real_U'] = solution(df['X'],df['T'],m,C)"
   ]
  },
  {
   "cell_type": "code",
   "execution_count": 6,
   "metadata": {},
   "outputs": [
    {
     "name": "stdout",
     "output_type": "stream",
     "text": [
      "0.00041067603687130826\n"
     ]
    }
   ],
   "source": [
    "ts = df['T'].unique()\n",
    "mses = []\n",
    "for t in ts:\n",
    "    mses.append(mean_squared_error(df[df['T'] == t]['U'],df[df['T'] == t]['real_U']))\n",
    "print(np.mean(mses))"
   ]
  },
  {
   "cell_type": "code",
   "execution_count": 7,
   "metadata": {},
   "outputs": [
    {
     "name": "stdout",
     "output_type": "stream",
     "text": [
      "0.4748500462987625\n"
     ]
    }
   ],
   "source": [
    "print(np.abs(df[\"U\"] - df['real_U']).max())"
   ]
  }
 ],
 "metadata": {
  "kernelspec": {
   "display_name": "xde",
   "language": "python",
   "name": "python3"
  },
  "language_info": {
   "codemirror_mode": {
    "name": "ipython",
    "version": 3
   },
   "file_extension": ".py",
   "mimetype": "text/x-python",
   "name": "python",
   "nbconvert_exporter": "python",
   "pygments_lexer": "ipython3",
   "version": "3.10.12"
  }
 },
 "nbformat": 4,
 "nbformat_minor": 2
}
