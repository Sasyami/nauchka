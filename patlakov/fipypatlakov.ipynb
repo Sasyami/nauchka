{
 "cells": [
  {
   "cell_type": "code",
   "execution_count": null,
   "metadata": {},
   "outputs": [],
   "source": [
    "from fipy import Variable, FaceVariable, CellVariable, Grid1D, \\\n",
    "NthOrderBoundaryCondition, ExplicitDiffusionTerm, TransientTerm, DiffusionTerm, Viewer,PowerLawConvectionTerm,ImplicitSourceTerm\n",
    "from fipy.tools import numerix\n",
    "from fipy import DefaultSolver\n",
    "import numpy as np\n",
    "import math\n",
    "\n",
    "import numpy as np\n",
    "import matplotlib.pyplot as plt\n",
    "import torch\n",
    "import math"
   ]
  },
  {
   "cell_type": "code",
   "execution_count": null,
   "metadata": {},
   "outputs": [],
   "source": [
    "def solution(x, t, m, C):\n",
    "    alpha = 1.0 / (m + 1)\n",
    "    factor = t**(-alpha)\n",
    "    inner = C - (m - 1) / (2 * m * (m + 1)) * x**2 / (t**(2 * alpha))\n",
    "    return factor * np.maximum(inner, 0)**(1.0 / (m - 1))"
   ]
  },
  {
   "cell_type": "code",
   "execution_count": null,
   "metadata": {},
   "outputs": [],
   "source": [
    "def ic_func(x):\n",
    "                  \n",
    "    return solution(x, t0, m, C) # analytic Barenblatt at t0"
   ]
  },
  {
   "cell_type": "code",
   "execution_count": null,
   "metadata": {},
   "outputs": [],
   "source": [
    "L = 15.\n",
    "T = 1.\n",
    "nx = 1000\n",
    "nt = 1000\n",
    "dx = 2*L/nx\n",
    "mesh = Grid1D(nx=nx, dx=dx) - [[L]]\n",
    "C = 1\n",
    "m = 3\n",
    "t0 = 0.001\n",
    "valueLeft = 0\n",
    "valueRight = 0\n",
    "timeStepDuration = T/nt\n",
    "steps = nt"
   ]
  },
  {
   "cell_type": "code",
   "execution_count": null,
   "metadata": {},
   "outputs": [],
   "source": [
    "x = mesh.cellCenters[0]\n",
    "IC = ic_func(x)\n",
    "phi = CellVariable(name=\"solution variable\",\n",
    "                   mesh=mesh,\n",
    "                   value=IC)\n",
    "\n",
    "\n",
    "phi.constrain(valueLeft,where=mesh.facesLeft)\n",
    "phi.constrain(valueRight, where= mesh.facesRight)\n",
    "\n",
    "\n",
    "eqX = (TransientTerm(coeff = 1)\n",
    "      == DiffusionTerm(coeff = m*phi**(m-1)) )\n",
    "\n",
    "\n",
    "\n",
    "\n",
    "from builtins import range\n",
    "solver = DefaultSolver()\n"
   ]
  },
  {
   "cell_type": "code",
   "execution_count": 13,
   "metadata": {},
   "outputs": [
    {
     "name": "stderr",
     "output_type": "stream",
     "text": [
      "/tmp/ipykernel_6409/405996416.py:5: DeprecationWarning: __array_wrap__ must accept context and return_scalar arguments (positionally) in the future. (Deprecated NumPy 2.0)\n",
      "  return factor * np.maximum(inner, 0)**(1.0 / (m - 1))\n"
     ]
    },
    {
     "ename": "KeyboardInterrupt",
     "evalue": "",
     "output_type": "error",
     "traceback": [
      "\u001b[0;31m---------------------------------------------------------------------------\u001b[0m",
      "\u001b[0;31mKeyboardInterrupt\u001b[0m                         Traceback (most recent call last)",
      "Cell \u001b[0;32mIn[13], line 14\u001b[0m\n\u001b[1;32m     10\u001b[0m npx \u001b[38;5;241m=\u001b[39m torch\u001b[38;5;241m.\u001b[39mfrom_numpy(np\u001b[38;5;241m.\u001b[39marray(x))\n\u001b[1;32m     12\u001b[0m U_exact\u001b[38;5;241m.\u001b[39mappend(solution(npx,t0\u001b[38;5;241m+\u001b[39mtimeStepDuration\u001b[38;5;241m*\u001b[39mstep,m,C))\n\u001b[0;32m---> 14\u001b[0m \u001b[43meqX\u001b[49m\u001b[38;5;241;43m.\u001b[39;49m\u001b[43msolve\u001b[49m\u001b[43m(\u001b[49m\u001b[43mvar\u001b[49m\u001b[38;5;241;43m=\u001b[39;49m\u001b[43mphi\u001b[49m\u001b[43m,\u001b[49m\n\u001b[1;32m     15\u001b[0m \u001b[43m          \u001b[49m\u001b[43mdt\u001b[49m\u001b[38;5;241;43m=\u001b[39;49m\u001b[43mtimeStepDuration\u001b[49m\u001b[43m,\u001b[49m\n\u001b[1;32m     16\u001b[0m \u001b[43m          \u001b[49m\u001b[38;5;66;43;03m#boundaryConditions = BCs,\u001b[39;49;00m\n\u001b[1;32m     17\u001b[0m \u001b[43m          \u001b[49m\u001b[43msolver\u001b[49m\u001b[43m \u001b[49m\u001b[38;5;241;43m=\u001b[39;49m\u001b[43m \u001b[49m\u001b[43msolver\u001b[49m\u001b[43m)\u001b[49m\n",
      "File \u001b[0;32m~/MEPHI/nauchka/xde/lib/python3.10/site-packages/fipy/terms/term.py:192\u001b[0m, in \u001b[0;36mTerm.solve\u001b[0;34m(self, var, solver, boundaryConditions, dt)\u001b[0m\n\u001b[1;32m    189\u001b[0m \u001b[38;5;28mself\u001b[39m\u001b[38;5;241m.\u001b[39m_log\u001b[38;5;241m.\u001b[39mdebug(\u001b[38;5;124m\"\u001b[39m\u001b[38;5;124mBEGIN solve\u001b[39m\u001b[38;5;124m\"\u001b[39m)\n\u001b[1;32m    191\u001b[0m \u001b[38;5;28;01mwith\u001b[39;00m Timer() \u001b[38;5;28;01mas\u001b[39;00m t:\n\u001b[0;32m--> 192\u001b[0m     solver \u001b[38;5;241m=\u001b[39m \u001b[38;5;28;43mself\u001b[39;49m\u001b[38;5;241;43m.\u001b[39;49m\u001b[43m_prepareLinearSystem\u001b[49m\u001b[43m(\u001b[49m\u001b[43mvar\u001b[49m\u001b[43m,\u001b[49m\u001b[43m \u001b[49m\u001b[43msolver\u001b[49m\u001b[43m,\u001b[49m\u001b[43m \u001b[49m\u001b[43mboundaryConditions\u001b[49m\u001b[43m,\u001b[49m\u001b[43m \u001b[49m\u001b[43mdt\u001b[49m\u001b[43m)\u001b[49m\n\u001b[1;32m    194\u001b[0m     solver\u001b[38;5;241m.\u001b[39m_solve()\n\u001b[1;32m    196\u001b[0m \u001b[38;5;28mself\u001b[39m\u001b[38;5;241m.\u001b[39m_log\u001b[38;5;241m.\u001b[39mdebug(\u001b[38;5;124m\"\u001b[39m\u001b[38;5;124mEND solve - \u001b[39m\u001b[38;5;132;01m{}\u001b[39;00m\u001b[38;5;124m ns\u001b[39m\u001b[38;5;124m\"\u001b[39m\u001b[38;5;241m.\u001b[39mformat(t\u001b[38;5;241m.\u001b[39melapsed))\n",
      "File \u001b[0;32m~/MEPHI/nauchka/xde/lib/python3.10/site-packages/fipy/terms/term.py:135\u001b[0m, in \u001b[0;36mTerm._prepareLinearSystem\u001b[0;34m(self, var, solver, boundaryConditions, dt)\u001b[0m\n\u001b[1;32m    130\u001b[0m         \u001b[38;5;28;01mfrom\u001b[39;00m\u001b[38;5;250m \u001b[39m\u001b[38;5;21;01mfipy\u001b[39;00m\u001b[38;5;21;01m.\u001b[39;00m\u001b[38;5;21;01mviewers\u001b[39;00m\u001b[38;5;21;01m.\u001b[39;00m\u001b[38;5;21;01mmatplotlibViewer\u001b[39;00m\u001b[38;5;21;01m.\u001b[39;00m\u001b[38;5;21;01mmatplotlibSparseMatrixViewer\u001b[39;00m\u001b[38;5;250m \u001b[39m\u001b[38;5;28;01mimport\u001b[39;00m MatplotlibSparseMatrixViewer\n\u001b[1;32m    131\u001b[0m         Term\u001b[38;5;241m.\u001b[39m_viewer \u001b[38;5;241m=\u001b[39m MatplotlibSparseMatrixViewer()\n\u001b[1;32m    133\u001b[0m (var,\n\u001b[1;32m    134\u001b[0m  matrix,\n\u001b[0;32m--> 135\u001b[0m  RHSvector) \u001b[38;5;241m=\u001b[39m \u001b[38;5;28;43mself\u001b[39;49m\u001b[38;5;241;43m.\u001b[39;49m\u001b[43m_buildAndAddMatrices\u001b[49m\u001b[43m(\u001b[49m\u001b[43mvar\u001b[49m\u001b[43m,\u001b[49m\n\u001b[1;32m    136\u001b[0m \u001b[43m                                        \u001b[49m\u001b[38;5;28;43mself\u001b[39;49m\u001b[38;5;241;43m.\u001b[39;49m\u001b[43m_getMatrixClass\u001b[49m\u001b[43m(\u001b[49m\u001b[43msolver\u001b[49m\u001b[43m,\u001b[49m\u001b[43m \u001b[49m\u001b[43mvar\u001b[49m\u001b[43m)\u001b[49m\u001b[43m,\u001b[49m\n\u001b[1;32m    137\u001b[0m \u001b[43m                                        \u001b[49m\u001b[43mboundaryConditions\u001b[49m\u001b[38;5;241;43m=\u001b[39;49m\u001b[43mboundaryConditions\u001b[49m\u001b[43m,\u001b[49m\n\u001b[1;32m    138\u001b[0m \u001b[43m                                        \u001b[49m\u001b[43mdt\u001b[49m\u001b[38;5;241;43m=\u001b[39;49m\u001b[43mdt\u001b[49m\u001b[43m,\u001b[49m\n\u001b[1;32m    139\u001b[0m \u001b[43m                                        \u001b[49m\u001b[43mtransientGeomCoeff\u001b[49m\u001b[38;5;241;43m=\u001b[39;49m\u001b[38;5;28;43mself\u001b[39;49m\u001b[38;5;241;43m.\u001b[39;49m\u001b[43m_getTransientGeomCoeff\u001b[49m\u001b[43m(\u001b[49m\u001b[43mvar\u001b[49m\u001b[43m)\u001b[49m\u001b[43m,\u001b[49m\n\u001b[1;32m    140\u001b[0m \u001b[43m                                        \u001b[49m\u001b[43mdiffusionGeomCoeff\u001b[49m\u001b[38;5;241;43m=\u001b[39;49m\u001b[38;5;28;43mself\u001b[39;49m\u001b[38;5;241;43m.\u001b[39;49m\u001b[43m_getDiffusionGeomCoeff\u001b[49m\u001b[43m(\u001b[49m\u001b[43mvar\u001b[49m\u001b[43m)\u001b[49m\u001b[43m,\u001b[49m\n\u001b[1;32m    141\u001b[0m \u001b[43m                                        \u001b[49m\u001b[43mbuildExplicitIfOther\u001b[49m\u001b[38;5;241;43m=\u001b[39;49m\u001b[38;5;28;43mself\u001b[39;49m\u001b[38;5;241;43m.\u001b[39;49m\u001b[43m_buildExplcitIfOther\u001b[49m\u001b[43m)\u001b[49m\n\u001b[1;32m    143\u001b[0m \u001b[38;5;28mself\u001b[39m\u001b[38;5;241m.\u001b[39m_buildCache(matrix, RHSvector)\n\u001b[1;32m    145\u001b[0m solver\u001b[38;5;241m.\u001b[39m_storeMatrix(var\u001b[38;5;241m=\u001b[39mvar, matrix\u001b[38;5;241m=\u001b[39mmatrix, RHSvector\u001b[38;5;241m=\u001b[39mRHSvector)\n",
      "File \u001b[0;32m~/MEPHI/nauchka/xde/lib/python3.10/site-packages/fipy/terms/binaryTerm.py:28\u001b[0m, in \u001b[0;36m_BinaryTerm._buildAndAddMatrices\u001b[0;34m(self, var, SparseMatrix, boundaryConditions, dt, transientGeomCoeff, diffusionGeomCoeff, buildExplicitIfOther)\u001b[0m\n\u001b[1;32m     24\u001b[0m RHSvector \u001b[38;5;241m=\u001b[39m \u001b[38;5;241m0\u001b[39m\n\u001b[1;32m     26\u001b[0m \u001b[38;5;28;01mfor\u001b[39;00m term \u001b[38;5;129;01min\u001b[39;00m (\u001b[38;5;28mself\u001b[39m\u001b[38;5;241m.\u001b[39mterm, \u001b[38;5;28mself\u001b[39m\u001b[38;5;241m.\u001b[39mother):\n\u001b[0;32m---> 28\u001b[0m     tmpVar, tmpMatrix, tmpRHSvector \u001b[38;5;241m=\u001b[39m \u001b[43mterm\u001b[49m\u001b[38;5;241;43m.\u001b[39;49m\u001b[43m_buildAndAddMatrices\u001b[49m\u001b[43m(\u001b[49m\u001b[43mvar\u001b[49m\u001b[43m,\u001b[49m\n\u001b[1;32m     29\u001b[0m \u001b[43m                                                                \u001b[49m\u001b[43mSparseMatrix\u001b[49m\u001b[43m,\u001b[49m\n\u001b[1;32m     30\u001b[0m \u001b[43m                                                                \u001b[49m\u001b[43mboundaryConditions\u001b[49m\u001b[38;5;241;43m=\u001b[39;49m\u001b[43mboundaryConditions\u001b[49m\u001b[43m,\u001b[49m\n\u001b[1;32m     31\u001b[0m \u001b[43m                                                                \u001b[49m\u001b[43mdt\u001b[49m\u001b[38;5;241;43m=\u001b[39;49m\u001b[43mdt\u001b[49m\u001b[43m,\u001b[49m\n\u001b[1;32m     32\u001b[0m \u001b[43m                                                                \u001b[49m\u001b[43mtransientGeomCoeff\u001b[49m\u001b[38;5;241;43m=\u001b[39;49m\u001b[43mtransientGeomCoeff\u001b[49m\u001b[43m,\u001b[49m\n\u001b[1;32m     33\u001b[0m \u001b[43m                                                                \u001b[49m\u001b[43mdiffusionGeomCoeff\u001b[49m\u001b[38;5;241;43m=\u001b[39;49m\u001b[43mdiffusionGeomCoeff\u001b[49m\u001b[43m,\u001b[49m\n\u001b[1;32m     34\u001b[0m \u001b[43m                                                                \u001b[49m\u001b[43mbuildExplicitIfOther\u001b[49m\u001b[38;5;241;43m=\u001b[39;49m\u001b[43mbuildExplicitIfOther\u001b[49m\u001b[43m)\u001b[49m\n\u001b[1;32m     36\u001b[0m     matrix \u001b[38;5;241m+\u001b[39m\u001b[38;5;241m=\u001b[39m tmpMatrix\n\u001b[1;32m     37\u001b[0m     RHSvector \u001b[38;5;241m+\u001b[39m\u001b[38;5;241m=\u001b[39m tmpRHSvector\n",
      "File \u001b[0;32m~/MEPHI/nauchka/xde/lib/python3.10/site-packages/fipy/terms/unaryTerm.py:62\u001b[0m, in \u001b[0;36m_UnaryTerm._buildAndAddMatrices\u001b[0;34m(self, var, SparseMatrix, boundaryConditions, dt, transientGeomCoeff, diffusionGeomCoeff, buildExplicitIfOther)\u001b[0m\n\u001b[1;32m     46\u001b[0m \u001b[38;5;250m\u001b[39m\u001b[38;5;124;03m\"\"\"Build matrices of constituent Terms and collect them\u001b[39;00m\n\u001b[1;32m     47\u001b[0m \n\u001b[1;32m     48\u001b[0m \u001b[38;5;124;03mOnly called at top-level by `_prepareLinearSystem()`\u001b[39;00m\n\u001b[0;32m   (...)\u001b[0m\n\u001b[1;32m     58\u001b[0m \n\u001b[1;32m     59\u001b[0m \u001b[38;5;124;03m\"\"\"\u001b[39;00m\n\u001b[1;32m     61\u001b[0m \u001b[38;5;28;01mif\u001b[39;00m var \u001b[38;5;129;01mis\u001b[39;00m \u001b[38;5;28mself\u001b[39m\u001b[38;5;241m.\u001b[39mvar \u001b[38;5;129;01mor\u001b[39;00m \u001b[38;5;28mself\u001b[39m\u001b[38;5;241m.\u001b[39mvar \u001b[38;5;129;01mis\u001b[39;00m \u001b[38;5;28;01mNone\u001b[39;00m:\n\u001b[0;32m---> 62\u001b[0m     var, matrix, RHSvector \u001b[38;5;241m=\u001b[39m \u001b[38;5;28;43mself\u001b[39;49m\u001b[38;5;241;43m.\u001b[39;49m\u001b[43m_buildMatrix\u001b[49m\u001b[43m(\u001b[49m\u001b[43mvar\u001b[49m\u001b[43m,\u001b[49m\n\u001b[1;32m     63\u001b[0m \u001b[43m                                               \u001b[49m\u001b[43mSparseMatrix\u001b[49m\u001b[43m,\u001b[49m\n\u001b[1;32m     64\u001b[0m \u001b[43m                                               \u001b[49m\u001b[43mboundaryConditions\u001b[49m\u001b[38;5;241;43m=\u001b[39;49m\u001b[43mboundaryConditions\u001b[49m\u001b[43m,\u001b[49m\n\u001b[1;32m     65\u001b[0m \u001b[43m                                               \u001b[49m\u001b[43mdt\u001b[49m\u001b[38;5;241;43m=\u001b[39;49m\u001b[43mdt\u001b[49m\u001b[43m,\u001b[49m\n\u001b[1;32m     66\u001b[0m \u001b[43m                                               \u001b[49m\u001b[43mtransientGeomCoeff\u001b[49m\u001b[38;5;241;43m=\u001b[39;49m\u001b[43mtransientGeomCoeff\u001b[49m\u001b[43m,\u001b[49m\n\u001b[1;32m     67\u001b[0m \u001b[43m                                               \u001b[49m\u001b[43mdiffusionGeomCoeff\u001b[49m\u001b[38;5;241;43m=\u001b[39;49m\u001b[43mdiffusionGeomCoeff\u001b[49m\u001b[43m)\u001b[49m\n\u001b[1;32m     68\u001b[0m \u001b[38;5;28;01melif\u001b[39;00m buildExplicitIfOther:\n\u001b[1;32m     69\u001b[0m     _, matrix, RHSvector \u001b[38;5;241m=\u001b[39m \u001b[38;5;28mself\u001b[39m\u001b[38;5;241m.\u001b[39m_buildMatrix(\u001b[38;5;28mself\u001b[39m\u001b[38;5;241m.\u001b[39mvar,\n\u001b[1;32m     70\u001b[0m                                              SparseMatrix,\n\u001b[1;32m     71\u001b[0m                                              boundaryConditions\u001b[38;5;241m=\u001b[39mboundaryConditions,\n\u001b[1;32m     72\u001b[0m                                              dt\u001b[38;5;241m=\u001b[39mdt,\n\u001b[1;32m     73\u001b[0m                                              transientGeomCoeff\u001b[38;5;241m=\u001b[39mtransientGeomCoeff,\n\u001b[1;32m     74\u001b[0m                                              diffusionGeomCoeff\u001b[38;5;241m=\u001b[39mdiffusionGeomCoeff)\n",
      "File \u001b[0;32m~/MEPHI/nauchka/xde/lib/python3.10/site-packages/fipy/terms/abstractDiffusionTerm.py:322\u001b[0m, in \u001b[0;36m_AbstractDiffusionTerm._buildMatrix\u001b[0;34m(self, var, SparseMatrix, boundaryConditions, dt, transientGeomCoeff, diffusionGeomCoeff)\u001b[0m\n\u001b[1;32m    318\u001b[0m     ids \u001b[38;5;241m=\u001b[39m \u001b[38;5;28mself\u001b[39m\u001b[38;5;241m.\u001b[39m_reshapeIDs(var, numerix\u001b[38;5;241m.\u001b[39marange(mesh\u001b[38;5;241m.\u001b[39mnumberOfCells))\n\u001b[1;32m    320\u001b[0m     \u001b[38;5;28mself\u001b[39m\u001b[38;5;241m.\u001b[39mconstraintL \u001b[38;5;241m=\u001b[39m \u001b[38;5;241m-\u001b[39mconstrainedNormalsDotCoeffOverdAP\u001b[38;5;241m.\u001b[39mdivergence \u001b[38;5;241m*\u001b[39m mesh\u001b[38;5;241m.\u001b[39mcellVolumes\n\u001b[0;32m--> 322\u001b[0m ids \u001b[38;5;241m=\u001b[39m \u001b[38;5;28;43mself\u001b[39;49m\u001b[38;5;241;43m.\u001b[39;49m\u001b[43m_reshapeIDs\u001b[49m\u001b[43m(\u001b[49m\u001b[43mvar\u001b[49m\u001b[43m,\u001b[49m\u001b[43m \u001b[49m\u001b[43mnumerix\u001b[49m\u001b[38;5;241;43m.\u001b[39;49m\u001b[43marange\u001b[49m\u001b[43m(\u001b[49m\u001b[43mmesh\u001b[49m\u001b[38;5;241;43m.\u001b[39;49m\u001b[43mnumberOfCells\u001b[49m\u001b[43m)\u001b[49m\u001b[43m)\u001b[49m\n\u001b[1;32m    323\u001b[0m L\u001b[38;5;241m.\u001b[39maddAt(\u001b[38;5;28mself\u001b[39m\u001b[38;5;241m.\u001b[39mconstraintL\u001b[38;5;241m.\u001b[39mravel(), ids\u001b[38;5;241m.\u001b[39mravel(), ids\u001b[38;5;241m.\u001b[39mswapaxes(\u001b[38;5;241m0\u001b[39m, \u001b[38;5;241m1\u001b[39m)\u001b[38;5;241m.\u001b[39mravel())\n\u001b[1;32m    324\u001b[0m b \u001b[38;5;241m+\u001b[39m\u001b[38;5;241m=\u001b[39m numerix\u001b[38;5;241m.\u001b[39mreshape(\u001b[38;5;28mself\u001b[39m\u001b[38;5;241m.\u001b[39mconstraintB\u001b[38;5;241m.\u001b[39mravel(), ids\u001b[38;5;241m.\u001b[39mshape)\u001b[38;5;241m.\u001b[39msum(\u001b[38;5;241m-\u001b[39m\u001b[38;5;241m2\u001b[39m)\u001b[38;5;241m.\u001b[39mravel()\n",
      "File \u001b[0;32m~/MEPHI/nauchka/xde/lib/python3.10/site-packages/fipy/terms/unaryTerm.py:92\u001b[0m, in \u001b[0;36m_UnaryTerm._reshapeIDs\u001b[0;34m(self, var, ids)\u001b[0m\n\u001b[1;32m     90\u001b[0m shape \u001b[38;5;241m=\u001b[39m (\u001b[38;5;28mself\u001b[39m\u001b[38;5;241m.\u001b[39m_vectorSize(var), \u001b[38;5;28mself\u001b[39m\u001b[38;5;241m.\u001b[39m_vectorSize(var), ids\u001b[38;5;241m.\u001b[39mshape[\u001b[38;5;241m-\u001b[39m\u001b[38;5;241m1\u001b[39m])\n\u001b[1;32m     91\u001b[0m ids \u001b[38;5;241m=\u001b[39m numerix\u001b[38;5;241m.\u001b[39mresize(ids, shape)\n\u001b[0;32m---> 92\u001b[0m X, Y \u001b[38;5;241m=\u001b[39m  \u001b[43mnumerix\u001b[49m\u001b[38;5;241;43m.\u001b[39;49m\u001b[43mindices\u001b[49m\u001b[43m(\u001b[49m\u001b[43mshape\u001b[49m\u001b[43m[\u001b[49m\u001b[43m:\u001b[49m\u001b[38;5;241;43m-\u001b[39;49m\u001b[38;5;241;43m1\u001b[39;49m\u001b[43m]\u001b[49m\u001b[43m)\u001b[49m\n\u001b[1;32m     93\u001b[0m X \u001b[38;5;241m*\u001b[39m\u001b[38;5;241m=\u001b[39m var\u001b[38;5;241m.\u001b[39mmesh\u001b[38;5;241m.\u001b[39mnumberOfCells\n\u001b[1;32m     94\u001b[0m ids \u001b[38;5;241m+\u001b[39m\u001b[38;5;241m=\u001b[39m X[\u001b[38;5;241m.\u001b[39m\u001b[38;5;241m.\u001b[39m\u001b[38;5;241m.\u001b[39m, numerix\u001b[38;5;241m.\u001b[39mnewaxis]\n",
      "File \u001b[0;32m~/MEPHI/nauchka/xde/lib/python3.10/site-packages/numpy/_core/numeric.py:1837\u001b[0m, in \u001b[0;36mindices\u001b[0;34m(dimensions, dtype, sparse)\u001b[0m\n\u001b[1;32m   1835\u001b[0m     res \u001b[38;5;241m=\u001b[39m empty((N,)\u001b[38;5;241m+\u001b[39mdimensions, dtype\u001b[38;5;241m=\u001b[39mdtype)\n\u001b[1;32m   1836\u001b[0m \u001b[38;5;28;01mfor\u001b[39;00m i, dim \u001b[38;5;129;01min\u001b[39;00m \u001b[38;5;28menumerate\u001b[39m(dimensions):\n\u001b[0;32m-> 1837\u001b[0m     idx \u001b[38;5;241m=\u001b[39m \u001b[43marange\u001b[49m\u001b[43m(\u001b[49m\u001b[43mdim\u001b[49m\u001b[43m,\u001b[49m\u001b[43m \u001b[49m\u001b[43mdtype\u001b[49m\u001b[38;5;241;43m=\u001b[39;49m\u001b[43mdtype\u001b[49m\u001b[43m)\u001b[49m\u001b[38;5;241;43m.\u001b[39;49m\u001b[43mreshape\u001b[49m\u001b[43m(\u001b[49m\n\u001b[1;32m   1838\u001b[0m \u001b[43m        \u001b[49m\u001b[43mshape\u001b[49m\u001b[43m[\u001b[49m\u001b[43m:\u001b[49m\u001b[43mi\u001b[49m\u001b[43m]\u001b[49m\u001b[43m \u001b[49m\u001b[38;5;241;43m+\u001b[39;49m\u001b[43m \u001b[49m\u001b[43m(\u001b[49m\u001b[43mdim\u001b[49m\u001b[43m,\u001b[49m\u001b[43m)\u001b[49m\u001b[43m \u001b[49m\u001b[38;5;241;43m+\u001b[39;49m\u001b[43m \u001b[49m\u001b[43mshape\u001b[49m\u001b[43m[\u001b[49m\u001b[43mi\u001b[49m\u001b[38;5;241;43m+\u001b[39;49m\u001b[38;5;241;43m1\u001b[39;49m\u001b[43m:\u001b[49m\u001b[43m]\u001b[49m\n\u001b[1;32m   1839\u001b[0m \u001b[43m    \u001b[49m\u001b[43m)\u001b[49m\n\u001b[1;32m   1840\u001b[0m     \u001b[38;5;28;01mif\u001b[39;00m sparse:\n\u001b[1;32m   1841\u001b[0m         res \u001b[38;5;241m=\u001b[39m res \u001b[38;5;241m+\u001b[39m (idx,)\n",
      "\u001b[0;31mKeyboardInterrupt\u001b[0m: "
     ]
    }
   ],
   "source": [
    "U_fem = []\n",
    "U_exact = []\n",
    "\n",
    "for step in range(steps):\n",
    "   \n",
    "    \n",
    "    \n",
    "    U_fem.append(np.array(phi))\n",
    "    \n",
    "    npx = torch.from_numpy(np.array(x))\n",
    "    \n",
    "    U_exact.append(solution(npx,t0+timeStepDuration*step,m,C))\n",
    "\n",
    "    eqX.solve(var=phi,\n",
    "              dt=timeStepDuration,\n",
    "              #boundaryConditions = BCs,\n",
    "              solver = solver)"
   ]
  },
  {
   "cell_type": "code",
   "execution_count": null,
   "metadata": {},
   "outputs": [],
   "source": [
    "U_exact = np.array(U_exact)\n",
    "U_fem = np.array(U_fem)"
   ]
  },
  {
   "cell_type": "code",
   "execution_count": null,
   "metadata": {},
   "outputs": [
    {
     "data": {
      "text/plain": [
       "[<matplotlib.lines.Line2D at 0x753248b089d0>]"
      ]
     },
     "execution_count": 9,
     "metadata": {},
     "output_type": "execute_result"
    },
    {
     "data": {
      "image/png": "[encoded data removed]",
      "text/plain": [
       "<Figure size 640x480 with 1 Axes>"
      ]
     },
     "metadata": {},
     "output_type": "display_data"
    }
   ],
   "source": [
    "plt.plot(np.array(x), U_fem[1])\n",
    "plt.plot(np.array(x), U_exact[1], linestyle = '--')"
   ]
  },
  {
   "cell_type": "code",
   "execution_count": null,
   "metadata": {},
   "outputs": [
    {
     "ename": "NameError",
     "evalue": "name 'nt' is not defined",
     "output_type": "error",
     "traceback": [
      "\u001b[0;31m---------------------------------------------------------------------------\u001b[0m",
      "\u001b[0;31mNameError\u001b[0m                                 Traceback (most recent call last)",
      "Cell \u001b[0;32mIn[7], line 2\u001b[0m\n\u001b[1;32m      1\u001b[0m \u001b[38;5;28;01mimport\u001b[39;00m\u001b[38;5;250m \u001b[39m\u001b[38;5;21;01mmatplotlib\u001b[39;00m\u001b[38;5;21;01m.\u001b[39;00m\u001b[38;5;21;01mpyplot\u001b[39;00m\u001b[38;5;250m \u001b[39m\u001b[38;5;28;01mas\u001b[39;00m\u001b[38;5;250m \u001b[39m\u001b[38;5;21;01mplt\u001b[39;00m\n\u001b[0;32m----> 2\u001b[0m Ts \u001b[38;5;241m=\u001b[39m np\u001b[38;5;241m.\u001b[39mlinspace(\u001b[38;5;241m0\u001b[39m,T,\u001b[43mnt\u001b[49m)\n\u001b[1;32m      3\u001b[0m Xs \u001b[38;5;241m=\u001b[39m np\u001b[38;5;241m.\u001b[39mlinspace(\u001b[38;5;241m0\u001b[39m,L,nx)\n\u001b[1;32m      4\u001b[0m XX,TT \u001b[38;5;241m=\u001b[39m np\u001b[38;5;241m.\u001b[39mmeshgrid(Xs,Ts)\n",
      "\u001b[0;31mNameError\u001b[0m: name 'nt' is not defined"
     ]
    }
   ],
   "source": [
    "import matplotlib.pyplot as plt\n",
    "Ts = np.linspace(0,T,nt)\n",
    "Xs = np.linspace(0,L,nx)\n",
    "XX,TT = np.meshgrid(Xs,Ts)\n",
    "fig = plt.figure(figsize=(18,18))\n",
    "ax = fig.add_subplot(1,2,1, projection = '3d')\n",
    "\n",
    "ax.plot_surface(XX,TT,U_fem,rcount=80, ccount=80, cmap=\"viridis\", edgecolor=\"none\")\n",
    "ax.set_title('FEM', fontsize = 30)\n",
    "ax = fig.add_subplot(1,2,2, projection = '3d')\n",
    "\n",
    "ax.set_title('FEM absolute error', fontsize = 30)\n",
    "ax.plot_surface(XX,TT,np.abs(U_fem - U_exact))\n",
    "print(np.mean(np.mean((U_fem - U_exact)**2)))\n",
    "print(np.max(np.abs(U_fem - U_exact)))\n",
    "print()"
   ]
  }
 ],
 "metadata": {
  "kernelspec": {
   "display_name": "xde",
   "language": "python",
   "name": "python3"
  },
  "language_info": {
   "codemirror_mode": {
    "name": "ipython",
    "version": 3
   },
   "file_extension": ".py",
   "mimetype": "text/x-python",
   "name": "python",
   "nbconvert_exporter": "python",
   "pygments_lexer": "ipython3",
   "version": "3.10.12"
  }
 },
 "nbformat": 4,
 "nbformat_minor": 2
}
